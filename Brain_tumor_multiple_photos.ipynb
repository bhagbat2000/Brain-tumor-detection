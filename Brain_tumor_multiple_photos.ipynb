{
 "cells": [
  {
   "cell_type": "code",
   "execution_count": 30,
   "metadata": {},
   "outputs": [
    {
     "name": "stdout",
     "output_type": "stream",
     "text": [
      "no of contours 3171\n",
      "no of contours 4966\n",
      "no of contours 4734\n",
      "no of contours 4741\n",
      "no of contours 5625\n",
      "no of contours 3561\n",
      "no of contours 3545\n",
      "no of contours 4278\n",
      "no of contours 4634\n",
      "no of contours 3831\n",
      "no of contours 4230\n",
      "no of contours 2082\n",
      "no of contours 3249\n",
      "no of contours 5763\n",
      "no of contours 1247\n",
      "no of contours 776\n",
      "no of contours 854\n",
      "no of contours 7558\n"
     ]
    }
   ],
   "source": [
    "import cv2\n",
    "import joblib\n",
    "import os\n",
    "from matplotlib import pyplot as plt\n",
    "import cv2\n",
    "import numpy as np\n",
    "\n",
    "model = joblib.load('brain_tumor_KMeans.sav')\n",
    "tumorLabel = 4\n",
    "test_img_path = 'test_images'\n",
    "test_img_names = os.listdir(test_img_path)\n",
    "for test_img_name in test_img_names:\n",
    "    img_path = os.path.join(test_img_path,test_img_name)\n",
    "    img = cv2.imread(img_path,0)\n",
    "    img_original= cv2.imread(img_path)\n",
    "    height,width = img.shape\n",
    "    imgFlatten=img.reshape(height*width,1)\n",
    "    labels = model.predict(imgFlatten)\n",
    "    Labels2D=labels.reshape(height,width)\n",
    "    mask=(Labels2D==tumorLabel)\n",
    "    \n",
    "    tumorExtracted = np.bitwise_and(mask,img)\n",
    "    contours,hiearchy= cv2.findContours(tumorExtracted,cv2.RETR_TREE,cv2.CHAIN_APPROX_SIMPLE)\n",
    "    print(\"no of contours\",len(contours))\n",
    "    #cv2.drawContours(img_orginal,contours,1502,(0,255,255),2)\n",
    "    for index,cnt in enumerate(contours):\n",
    "\n",
    "        #cv2.drawContours(frame, [cnt], 0, (0,255,255), 3)\n",
    "        area=cv2.contourArea(cnt)\n",
    "        #print(area)\n",
    "        if(area>1000):\n",
    "\n",
    "            cv2.drawContours(img_original,[cnt], -1, (0,255,255), 2)\n",
    "            x,y,w,h = cv2.boundingRect(cnt)\n",
    "            cv2.rectangle(img_original,(x,y),(x+w,y+h),(0,255,0),2)\n",
    "            cv2.rectangle(img_original,(x,y),(x+120,y-40),(0,255,0),-1)\n",
    "            cv2.putText(img_original,\"TUMOR\",(x+10,y-10),cv2.FONT_HERSHEY_SIMPLEX,1,(255,255,255),2)\n",
    "    cv2.imshow('LIVE',img_original)\n",
    "    cv2.waitKey(0)\n",
    "    cv2.destroyAllWindows()"
   ]
  },
  {
   "cell_type": "code",
   "execution_count": 12,
   "metadata": {},
   "outputs": [
    {
     "name": "stdout",
     "output_type": "stream",
     "text": [
      "no of contours 4566\n",
      "no of contours 2794\n",
      "no of contours 2805\n",
      "no of contours 2666\n",
      "no of contours 1587\n",
      "no of contours 3566\n",
      "no of contours 2544\n",
      "no of contours 2616\n",
      "no of contours 2188\n",
      "no of contours 1169\n",
      "no of contours 1081\n",
      "no of contours 2394\n",
      "no of contours 1273\n"
     ]
    }
   ],
   "source": []
  },
  {
   "cell_type": "code",
   "execution_count": null,
   "metadata": {},
   "outputs": [],
   "source": []
  }
 ],
 "metadata": {
  "kernelspec": {
   "display_name": "Python 3",
   "language": "python",
   "name": "python3"
  },
  "language_info": {
   "codemirror_mode": {
    "name": "ipython",
    "version": 3
   },
   "file_extension": ".py",
   "mimetype": "text/x-python",
   "name": "python",
   "nbconvert_exporter": "python",
   "pygments_lexer": "ipython3",
   "version": "3.7.1"
  }
 },
 "nbformat": 4,
 "nbformat_minor": 2
}
