{
 "cells": [
  {
   "cell_type": "code",
   "execution_count": 1,
   "metadata": {},
   "outputs": [],
   "source": [
    "# Rain or No Rain Problem\n",
    "import numpy as np\n",
    "\n",
    "#Temp,Humidity,label\n",
    "\n",
    "dataset=np.array([[28,80,1],\n",
    "                 [35,60,0],\n",
    "                 [37,50,0],\n",
    "                 [25,90,1],\n",
    "                 [38,68,0],\n",
    "                 [33,77,0],\n",
    "                  [21,88,1],\n",
    "                 [32,75,0],\n",
    "                 [28,82,1],\n",
    "                 [32,65,0],\n",
    "                 [22,60,1],\n",
    "                 [37.5,90,0],\n",
    "                 [25,55,1],\n",
    "                 [24,75,1]])"
   ]
  },
  {
   "cell_type": "code",
   "execution_count": 2,
   "metadata": {},
   "outputs": [],
   "source": [
    "data=dataset[:,0:2]\n",
    "target=dataset[:,2]"
   ]
  },
  {
   "cell_type": "code",
   "execution_count": 3,
   "metadata": {},
   "outputs": [
    {
     "data": {
      "text/plain": [
       "Text(0, 0.5, 'Hum/%')"
      ]
     },
     "execution_count": 3,
     "metadata": {},
     "output_type": "execute_result"
    }
   ],
   "source": [
    "from matplotlib import pyplot as plt\n",
    "\n",
    "plt.scatter(data[:,0],data[:,1])\n",
    "plt.xlabel('Temp/C')\n",
    "plt.ylabel('Hum/%')"
   ]
  },
  {
   "cell_type": "code",
   "execution_count": 4,
   "metadata": {},
   "outputs": [
    {
     "name": "stdout",
     "output_type": "stream",
     "text": [
      "Clustered Labels: [0 1 1 0 1 0 0 0 0 1 1 0 1 0]\n",
      "Actual Labels   : [1 0 0 1 0 0 1 0 1 0 1 0 1 1]\n"
     ]
    }
   ],
   "source": [
    "from sklearn.cluster import KMeans\n",
    "\n",
    "model=KMeans(n_clusters=2) #K value\n",
    "model.fit(data)\n",
    "labels=model.labels_\n",
    "print(\"Clustered Labels:\",labels)\n",
    "print(\"Actual Labels   :\",np.array(target,np.int))"
   ]
  },
  {
   "cell_type": "code",
   "execution_count": 5,
   "metadata": {},
   "outputs": [
    {
     "data": {
      "image/png": "[encoded data removed]",
      "text/plain": [
       "<Figure size 432x288 with 1 Axes>"
      ]
     },
     "metadata": {
      "needs_background": "light"
     },
     "output_type": "display_data"
    }
   ],
   "source": [
    "from matplotlib import pyplot as plt\n",
    "\n",
    "for i in range(len(dataset)):\n",
    "    \n",
    "    if(labels[i]==0):\n",
    "    \n",
    "        plt.scatter(data[i,0],data[i,1],c='b')\n",
    "    \n",
    "    else:\n",
    "        \n",
    "        plt.scatter(data[i,0],data[i,1],c='r')"
   ]
  },
  {
   "cell_type": "code",
   "execution_count": 6,
   "metadata": {},
   "outputs": [
    {
     "name": "stdout",
     "output_type": "stream",
     "text": [
      "[28.5625 82.125 ]\n",
      "[31.5        59.66666667]\n"
     ]
    }
   ],
   "source": [
    "cc1,cc2=model.cluster_centers_\n",
    "print(cc1)\n",
    "print(cc2)"
   ]
  },
  {
   "cell_type": "code",
   "execution_count": 7,
   "metadata": {},
   "outputs": [
    {
     "data": {
      "image/png": "[encoded data removed]",
      "text/plain": [
       "<Figure size 432x288 with 1 Axes>"
      ]
     },
     "metadata": {
      "needs_background": "light"
     },
     "output_type": "display_data"
    }
   ],
   "source": [
    "for i in range(len(dataset)):\n",
    "    \n",
    "    if(labels[i]==0):\n",
    "    \n",
    "        plt.scatter(data[i,0],data[i,1],c='b')\n",
    "    \n",
    "    else:\n",
    "        \n",
    "        plt.scatter(data[i,0],data[i,1],c='r')\n",
    "        \n",
    "    plt.scatter(cc1[0],cc1[1],marker='x',c='b')\n",
    "    plt.scatter(cc2[0],cc2[1],marker='x',c='r')"
   ]
  },
  {
   "cell_type": "code",
   "execution_count": 8,
   "metadata": {},
   "outputs": [
    {
     "name": "stdout",
     "output_type": "stream",
     "text": [
      "[1]\n"
     ]
    }
   ],
   "source": [
    "result=model.predict([[30,55]])\n",
    "print(result)"
   ]
  },
  {
   "cell_type": "code",
   "execution_count": null,
   "metadata": {},
   "outputs": [],
   "source": []
  }
 ],
 "metadata": {
  "kernelspec": {
   "display_name": "Python 3",
   "language": "python",
   "name": "python3"
  },
  "language_info": {
   "codemirror_mode": {
    "name": "ipython",
    "version": 3
   },
   "file_extension": ".py",
   "mimetype": "text/x-python",
   "name": "python",
   "nbconvert_exporter": "python",
   "pygments_lexer": "ipython3",
   "version": "3.7.1"
  }
 },
 "nbformat": 4,
 "nbformat_minor": 2
}
